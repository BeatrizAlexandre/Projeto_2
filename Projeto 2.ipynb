{
 "cells": [
  {
   "cell_type": "markdown",
   "metadata": {},
   "source": [
    "# Projeto 2 - Classificando Automático de Sentimento \n",
    "\n",
    "## Por: Beatriz Alexandre e Vitória Almeida\n",
    "\n",
    "#### Marca escolhida: Lindt\n",
    "\n",
    "Fomos contratadas pela empresa Lindt, pára analisar os tweets feitos por seus clientessobre sua empresa. Para isso criaremos um programa que irá analisae as mensagens disponiveis como \"relevante\" ou \"irrelevante\". Os twers que forem negativos irão disparar um foco na área de marketing."
   ]
  },
  {
   "cell_type": "code",
   "execution_count": 1,
   "metadata": {},
   "outputs": [],
   "source": [
    "import pandas as pd\n",
    "import matplotlib\n",
    "import matplotlib.pyplot as plt\n",
    "import matplotlib as mpl  \n",
    "import seaborn as sns\n",
    "import numpy as np\n",
    "import itertools\n",
    "from scipy import stats\n",
    "from emoji import UNICODE_EMOJI"
   ]
  },
  {
   "cell_type": "markdown",
   "metadata": {},
   "source": [
    "#### Colocando os dados em um DataFrame"
   ]
  },
  {
   "cell_type": "code",
   "execution_count": 2,
   "metadata": {},
   "outputs": [],
   "source": [
    "tw = pd.read_excel('tweets_lindt.xlsx', sheet_name = 0)"
   ]
  },
  {
   "cell_type": "code",
   "execution_count": 3,
   "metadata": {},
   "outputs": [
    {
     "data": {
      "text/html": [
       "<div>\n",
       "<style scoped>\n",
       "    .dataframe tbody tr th:only-of-type {\n",
       "        vertical-align: middle;\n",
       "    }\n",
       "\n",
       "    .dataframe tbody tr th {\n",
       "        vertical-align: top;\n",
       "    }\n",
       "\n",
       "    .dataframe thead th {\n",
       "        text-align: right;\n",
       "    }\n",
       "</style>\n",
       "<table border=\"1\" class=\"dataframe\">\n",
       "  <thead>\n",
       "    <tr style=\"text-align: right;\">\n",
       "      <th></th>\n",
       "      <th>Treinamento</th>\n",
       "      <th>Relevante</th>\n",
       "      <th>Positivo/Negativo</th>\n",
       "    </tr>\n",
       "  </thead>\n",
       "  <tbody>\n",
       "    <tr>\n",
       "      <th>0</th>\n",
       "      <td>lindt chocolate is so overrated</td>\n",
       "      <td>1</td>\n",
       "      <td>0</td>\n",
       "    </tr>\n",
       "    <tr>\n",
       "      <th>1</th>\n",
       "      <td>@elgliko hear that pitter patter in the back g...</td>\n",
       "      <td>0</td>\n",
       "      <td>NaN</td>\n",
       "    </tr>\n",
       "    <tr>\n",
       "      <th>2</th>\n",
       "      <td>rt @statutory_boy: the guy was addicted to dru...</td>\n",
       "      <td>0</td>\n",
       "      <td>NaN</td>\n",
       "    </tr>\n",
       "    <tr>\n",
       "      <th>3</th>\n",
       "      <td>@andreyasasylum @yourmomsuckstho hey, can you ...</td>\n",
       "      <td>1</td>\n",
       "      <td>1</td>\n",
       "    </tr>\n",
       "    <tr>\n",
       "      <th>4</th>\n",
       "      <td>great job by @noticgroup gms. come and see the...</td>\n",
       "      <td>1</td>\n",
       "      <td>1</td>\n",
       "    </tr>\n",
       "  </tbody>\n",
       "</table>\n",
       "</div>"
      ],
      "text/plain": [
       "                                         Treinamento Relevante  \\\n",
       "0                    lindt chocolate is so overrated         1   \n",
       "1  @elgliko hear that pitter patter in the back g...         0   \n",
       "2  rt @statutory_boy: the guy was addicted to dru...         0   \n",
       "3  @andreyasasylum @yourmomsuckstho hey, can you ...         1   \n",
       "4  great job by @noticgroup gms. come and see the...         1   \n",
       "\n",
       "  Positivo/Negativo  \n",
       "0                 0  \n",
       "1               NaN  \n",
       "2               NaN  \n",
       "3                 1  \n",
       "4                 1  "
      ]
     },
     "execution_count": 3,
     "metadata": {},
     "output_type": "execute_result"
    }
   ],
   "source": [
    "tw.head()"
   ]
  },
  {
   "cell_type": "markdown",
   "metadata": {},
   "source": [
    "#### Limpando os tweets"
   ]
  },
  {
   "cell_type": "markdown",
   "metadata": {},
   "source": [
    "LIMPAR TWEETS"
   ]
  },
  {
   "cell_type": "code",
   "execution_count": 4,
   "metadata": {},
   "outputs": [
    {
     "data": {
      "text/html": [
       "<div>\n",
       "<style scoped>\n",
       "    .dataframe tbody tr th:only-of-type {\n",
       "        vertical-align: middle;\n",
       "    }\n",
       "\n",
       "    .dataframe tbody tr th {\n",
       "        vertical-align: top;\n",
       "    }\n",
       "\n",
       "    .dataframe thead th {\n",
       "        text-align: right;\n",
       "    }\n",
       "</style>\n",
       "<table border=\"1\" class=\"dataframe\">\n",
       "  <thead>\n",
       "    <tr style=\"text-align: right;\">\n",
       "      <th></th>\n",
       "      <th>Treinamento</th>\n",
       "      <th>Relevante</th>\n",
       "    </tr>\n",
       "  </thead>\n",
       "  <tbody>\n",
       "    <tr>\n",
       "      <th>0</th>\n",
       "      <td>lindt chocolate is so overrated</td>\n",
       "      <td>1</td>\n",
       "    </tr>\n",
       "    <tr>\n",
       "      <th>1</th>\n",
       "      <td>elgliko hear that pitter patter in the back gr...</td>\n",
       "      <td>0</td>\n",
       "    </tr>\n",
       "    <tr>\n",
       "      <th>2</th>\n",
       "      <td>rt statutoryboy the guy was addicted to drugs ...</td>\n",
       "      <td>0</td>\n",
       "    </tr>\n",
       "    <tr>\n",
       "      <th>3</th>\n",
       "      <td>andreyasasylum yourmomsuckstho hey can you ple...</td>\n",
       "      <td>1</td>\n",
       "    </tr>\n",
       "    <tr>\n",
       "      <th>4</th>\n",
       "      <td>great job by noticgroup gms come and see them ...</td>\n",
       "      <td>1</td>\n",
       "    </tr>\n",
       "  </tbody>\n",
       "</table>\n",
       "</div>"
      ],
      "text/plain": [
       "                                         Treinamento Relevante\n",
       "0                    lindt chocolate is so overrated         1\n",
       "1  elgliko hear that pitter patter in the back gr...         0\n",
       "2  rt statutoryboy the guy was addicted to drugs ...         0\n",
       "3  andreyasasylum yourmomsuckstho hey can you ple...         1\n",
       "4  great job by noticgroup gms come and see them ...         1"
      ]
     },
     "execution_count": 4,
     "metadata": {},
     "output_type": "execute_result"
    }
   ],
   "source": [
    "import string\n",
    "ponto = string.punctuation\n",
    "\n",
    "#lista para depoi tirar os pontos\n",
    "po = [\"\\n\", \"\\t\"]\n",
    "\n",
    "data_limpo = []\n",
    "\n",
    "#dar espaço nos emojis e limpar os pontos\n",
    "for tweet in tw[\"Treinamento\"]:\n",
    "    t = ''\n",
    "    for palavra in tweet:\n",
    "        if palavra in UNICODE_EMOJI:\n",
    "            t = t+ \" \" + palavra + \" \"\n",
    "        elif palavra in po:\n",
    "            t += \" \"\n",
    "        elif palavra not in ponto:\n",
    "            t += palavra\n",
    "    data_limpo.append(t)\n",
    "\n",
    "tw_li =  pd.DataFrame()\n",
    "tw_li['Treinamento'] = data_limpo\n",
    "tw_li['Relevante'] = tw['Relevante']\n",
    "\n",
    "tw_li.head()\n",
    "\n"
   ]
  },
  {
   "cell_type": "code",
   "execution_count": 13,
   "metadata": {},
   "outputs": [
    {
     "data": {
      "text/html": [
       "<div>\n",
       "<style scoped>\n",
       "    .dataframe tbody tr th:only-of-type {\n",
       "        vertical-align: middle;\n",
       "    }\n",
       "\n",
       "    .dataframe tbody tr th {\n",
       "        vertical-align: top;\n",
       "    }\n",
       "\n",
       "    .dataframe thead th {\n",
       "        text-align: right;\n",
       "    }\n",
       "</style>\n",
       "<table border=\"1\" class=\"dataframe\">\n",
       "  <thead>\n",
       "    <tr style=\"text-align: right;\">\n",
       "      <th></th>\n",
       "      <th>Treinamento</th>\n",
       "      <th>Relevante</th>\n",
       "    </tr>\n",
       "  </thead>\n",
       "  <tbody>\n",
       "    <tr>\n",
       "      <th>0</th>\n",
       "      <td>lindt chocolate overrated</td>\n",
       "      <td>1</td>\n",
       "    </tr>\n",
       "    <tr>\n",
       "      <th>1</th>\n",
       "      <td>elgliko hear that pitter patter the back groun...</td>\n",
       "      <td>0</td>\n",
       "    </tr>\n",
       "    <tr>\n",
       "      <th>2</th>\n",
       "      <td>statutoryboy the guy was addicted drugs his li...</td>\n",
       "      <td>0</td>\n",
       "    </tr>\n",
       "    <tr>\n",
       "      <th>3</th>\n",
       "      <td>andreyasasylum yourmomsuckstho hey can you ple...</td>\n",
       "      <td>1</td>\n",
       "    </tr>\n",
       "    <tr>\n",
       "      <th>4</th>\n",
       "      <td>great job noticgroup gms come and see them and...</td>\n",
       "      <td>1</td>\n",
       "    </tr>\n",
       "  </tbody>\n",
       "</table>\n",
       "</div>"
      ],
      "text/plain": [
       "                                         Treinamento Relevante\n",
       "0                          lindt chocolate overrated         1\n",
       "1  elgliko hear that pitter patter the back groun...         0\n",
       "2  statutoryboy the guy was addicted drugs his li...         0\n",
       "3  andreyasasylum yourmomsuckstho hey can you ple...         1\n",
       "4  great job noticgroup gms come and see them and...         1"
      ]
     },
     "execution_count": 13,
     "metadata": {},
     "output_type": "execute_result"
    }
   ],
   "source": [
    "# tirar os @ e os #\n",
    "data_limpo = []\n",
    "x= ' '\n",
    "for tweet in tw_li['Treinamento']:\n",
    "    limp = []\n",
    "    spli = tweet.split(\" \")\n",
    "    for palavra in spli:\n",
    "        if palavra in UNICODE_EMOJI:\n",
    "            limp.append(palavra)\n",
    "        elif len(palavra) > 2 and palavra[0]!='@' and palavra[0] != '#' and palavra[:4] != \"http\":\n",
    "            limp.append(palavra)\n",
    "    data_limpo.append(x.join(limp))\n",
    "    \n",
    "tw_limpo =  pd.DataFrame()\n",
    "tw_limpo['Treinamento'] = data_limpo\n",
    "tw_limpo['Relevante'] = tw['Relevante']\n",
    "tw_limpo['Treinamento'] = tw_limpo['Treinamento'].str.replace('gorgeous\\xa0i', 'banana')\n",
    "#tw_limpo['Treinamento'] = tw_limpo['Treinamento'].str.replace(\" ' ' \", \" \")\n",
    "\n",
    "tw_limpo.head()"
   ]
  },
  {
   "cell_type": "markdown",
   "metadata": {},
   "source": [
    "tw_limpo.Treinamento = tw_limpo.Treinamento.str.replace('@', '')\n",
    "tw_limpo.Treinamento = tw_limpo.Treinamento.str.replace(':', '')\n",
    "tw_limpo.Treinamento = tw_limpo.Treinamento.str.replace('_', '')\n",
    "tw_limpo.Treinamento = tw_limpo.Treinamento.str.replace('%', '')\n",
    "tw_limpo.Treinamento = tw_limpo.Treinamento.str.replace('&', '')\n",
    "tw_limpo.Treinamento = tw_limpo.Treinamento.str.replace(',', '')\n",
    "tw_limpo.Treinamento = tw_limpo.Treinamento.str.replace('#', '')\n",
    "tw_limpo.Treinamento = tw_limpo.Treinamento.str.replace(';', '')\n",
    "tw_limpo.Treinamento = tw_limpo.Treinamento.str.replace('.', '')\n",
    "tw_limpo.Treinamento = tw_limpo.Treinamento.str.replace('$', '')\n",
    "tw_limpo.Treinamento = tw_limpo.Treinamento.str.replace('(', '')\n",
    "tw_limpo.Treinamento = tw_limpo.Treinamento.str.replace(')', '')\n",
    "tw_limpo.Treinamento = tw_limpo.Treinamento.str.replace('*', '')\n",
    "tw_limpo.Treinamento = tw_limpo.Treinamento.str.replace('/', '')\n",
    "tw_limpo.Treinamento = tw_limpo.Treinamento.str.replace('?', '')\n",
    "tw_limpo.Treinamento = tw_limpo.Treinamento.str.replace('+', '')\n",
    "tw_limpo.Treinamento = tw_limpo.Treinamento.str.replace('-', '')\n",
    "tw_limpo.Treinamento = tw_limpo.Treinamento.str.replace(']', '')\n",
    "tw_limpo.Treinamento = tw_limpo.Treinamento.str.replace('[', '')\n",
    "tw_limpo.Treinamento = tw_limpo.Treinamento.str.replace('=', '')\n",
    "tw_limpo.Treinamento = tw_limpo.Treinamento.str.replace('^', '')\n",
    "tw_limpo.Treinamento = tw_limpo.Treinamento.str.replace('!', '')\n",
    "tw_limpo.Treinamento = tw_limpo.Treinamento.str.replace('\"', '')\n",
    "tw_limpo.Treinamento = tw_limpo.Treinamento.str.replace('\\n', '')\n",
    "tw_limpo.Treinamento = tw_limpo.Treinamento.str.replace(\"'\", \"\")\n",
    "tw_limpo.Treinamento = tw_limpo.Treinamento.str.replace(\"’\",'')\n",
    "tw_limpo.Treinamento = tw_limpo.Treinamento.str.replace(\"''\",'')\n",
    "\n",
    "tw.head()"
   ]
  },
  {
   "cell_type": "markdown",
   "metadata": {},
   "source": [
    "Dar espaço nos emojis:"
   ]
  },
  {
   "cell_type": "code",
   "execution_count": null,
   "metadata": {},
   "outputs": [],
   "source": []
  },
  {
   "cell_type": "markdown",
   "metadata": {},
   "source": [
    "Lista de todas as palavras dos tweets:"
   ]
  },
  {
   "cell_type": "code",
   "execution_count": 14,
   "metadata": {},
   "outputs": [],
   "source": [
    "pala = []\n",
    "\n",
    "for i in tw_limpo['Treinamento']:\n",
    "    frase = i.split()\n",
    "    for p in frase:\n",
    "        if p not in pala:\n",
    "            pala.append(p)"
   ]
  },
  {
   "cell_type": "markdown",
   "metadata": {},
   "source": [
    "Contar quantas vezes aparace o 1(Relevante) e o 0(não relevante):"
   ]
  },
  {
   "cell_type": "code",
   "execution_count": 15,
   "metadata": {},
   "outputs": [],
   "source": [
    "#contador\n",
    "Rel = 0\n",
    "Irre = 0 \n",
    "\n",
    "for l in range(len(tw_limpo)):\n",
    "    linha = tw_limpo[\"Treinamento\"][l].split(\" \")\n",
    "    for i in linha:\n",
    "        if tw_limpo[\"Treinamento\"][l] == 1:\n",
    "            Rel += 1\n",
    "        else:\n",
    "            Irre += 1"
   ]
  },
  {
   "cell_type": "markdown",
   "metadata": {},
   "source": [
    "Dicionários para calcular a frequencia de relevantes e irrelevantes:"
   ]
  },
  {
   "cell_type": "code",
   "execution_count": 16,
   "metadata": {},
   "outputs": [],
   "source": [
    "#adicionou as palavras no dicionário de frequencia\n",
    "r_freq = {}\n",
    "ir_freq = {}\n",
    "\n",
    "for palavras in pala:\n",
    "    r_freq[palavras] = 1\n",
    "    ir_freq[palavras] = 1\n",
    "\n",
    "for g in range(len(tw_limpo)):\n",
    "    linha = tw_limpo[\"Treinamento\"][g].split(\" \")\n",
    "    for v in linha:\n",
    "        if tw_limpo[\"Relevante\"][g] == 0:\n",
    "            ir_freq[v]+=1\n",
    "        else:\n",
    "            r_freq[v]+= 1"
   ]
  },
  {
   "cell_type": "markdown",
   "metadata": {},
   "source": [
    "A probabilidade de ser relevante da cada palavra"
   ]
  },
  {
   "cell_type": "code",
   "execution_count": 17,
   "metadata": {},
   "outputs": [],
   "source": [
    "r_prob = {}\n",
    "ir_prob = {}\n",
    "\n",
    "#pala é a lista de palavras dos tweets\n",
    "\n",
    "for palavra in pala:\n",
    "    r_prob[palavra] = r_freq[palavra]/(len(palavra)+Rel)\n",
    "    ir_prob[palavra] = ir_freq[palavra]/(len(palavra)+Irre)\n",
    "    "
   ]
  },
  {
   "cell_type": "markdown",
   "metadata": {},
   "source": [
    "P(relevante) e P(irrelevante)"
   ]
  },
  {
   "cell_type": "code",
   "execution_count": 18,
   "metadata": {},
   "outputs": [],
   "source": [
    "irrelevante = 0\n",
    "relevante = 0 \n",
    "for m in tw_limpo['Relevante']:\n",
    "    if m == 0:\n",
    "        irrelevante += 1\n",
    "    else:\n",
    "        relevante += 1 \n",
    "\n",
    "Pi = irrelevante/len(tw_limpo['Relevante'])\n",
    "Pr = relevante/len(tw_limpo['Relevante'])\n"
   ]
  },
  {
   "cell_type": "markdown",
   "metadata": {},
   "source": [
    "Teoria de Naive - Bayes"
   ]
  },
  {
   "cell_type": "markdown",
   "metadata": {},
   "source": [
    "# TESTE"
   ]
  },
  {
   "cell_type": "code",
   "execution_count": 19,
   "metadata": {},
   "outputs": [],
   "source": [
    "g = pd.read_excel('tweets_lindt.xlsx', sheet_name = 1)"
   ]
  },
  {
   "cell_type": "code",
   "execution_count": 20,
   "metadata": {},
   "outputs": [
    {
     "data": {
      "text/html": [
       "<div>\n",
       "<style scoped>\n",
       "    .dataframe tbody tr th:only-of-type {\n",
       "        vertical-align: middle;\n",
       "    }\n",
       "\n",
       "    .dataframe tbody tr th {\n",
       "        vertical-align: top;\n",
       "    }\n",
       "\n",
       "    .dataframe thead th {\n",
       "        text-align: right;\n",
       "    }\n",
       "</style>\n",
       "<table border=\"1\" class=\"dataframe\">\n",
       "  <thead>\n",
       "    <tr style=\"text-align: right;\">\n",
       "      <th></th>\n",
       "      <th>Teste</th>\n",
       "      <th>Relevante</th>\n",
       "      <th>Positivo/Negativo</th>\n",
       "    </tr>\n",
       "  </thead>\n",
       "  <tbody>\n",
       "    <tr>\n",
       "      <th>0</th>\n",
       "      <td>rt @thembarumbu: dear ladies\\nif you catch ur ...</td>\n",
       "      <td>0</td>\n",
       "      <td>NaN</td>\n",
       "    </tr>\n",
       "    <tr>\n",
       "      <th>1</th>\n",
       "      <td>rt @dailytelegraph: one of the most notorious ...</td>\n",
       "      <td>1</td>\n",
       "      <td>0/1</td>\n",
       "    </tr>\n",
       "    <tr>\n",
       "      <th>2</th>\n",
       "      <td>commercial law's bitch ...is what i am right n...</td>\n",
       "      <td>0</td>\n",
       "      <td>NaN</td>\n",
       "    </tr>\n",
       "    <tr>\n",
       "      <th>3</th>\n",
       "      <td>@hloni_maniers i'm craving lindt lindor 😫</td>\n",
       "      <td>1</td>\n",
       "      <td>1</td>\n",
       "    </tr>\n",
       "    <tr>\n",
       "      <th>4</th>\n",
       "      <td>rt @lutho__m: if you're reading this tweet htt...</td>\n",
       "      <td>0</td>\n",
       "      <td>NaN</td>\n",
       "    </tr>\n",
       "  </tbody>\n",
       "</table>\n",
       "</div>"
      ],
      "text/plain": [
       "                                               Teste  Relevante  \\\n",
       "0  rt @thembarumbu: dear ladies\\nif you catch ur ...          0   \n",
       "1  rt @dailytelegraph: one of the most notorious ...          1   \n",
       "2  commercial law's bitch ...is what i am right n...          0   \n",
       "3          @hloni_maniers i'm craving lindt lindor 😫          1   \n",
       "4  rt @lutho__m: if you're reading this tweet htt...          0   \n",
       "\n",
       "  Positivo/Negativo  \n",
       "0               NaN  \n",
       "1               0/1  \n",
       "2               NaN  \n",
       "3                 1  \n",
       "4               NaN  "
      ]
     },
     "execution_count": 20,
     "metadata": {},
     "output_type": "execute_result"
    }
   ],
   "source": [
    "g.head()"
   ]
  },
  {
   "cell_type": "code",
   "execution_count": 21,
   "metadata": {},
   "outputs": [
    {
     "data": {
      "text/html": [
       "<div>\n",
       "<style scoped>\n",
       "    .dataframe tbody tr th:only-of-type {\n",
       "        vertical-align: middle;\n",
       "    }\n",
       "\n",
       "    .dataframe tbody tr th {\n",
       "        vertical-align: top;\n",
       "    }\n",
       "\n",
       "    .dataframe thead th {\n",
       "        text-align: right;\n",
       "    }\n",
       "</style>\n",
       "<table border=\"1\" class=\"dataframe\">\n",
       "  <thead>\n",
       "    <tr style=\"text-align: right;\">\n",
       "      <th></th>\n",
       "      <th>Teste</th>\n",
       "      <th>Relevante</th>\n",
       "      <th>Positivo/Negativo</th>\n",
       "    </tr>\n",
       "  </thead>\n",
       "  <tbody>\n",
       "    <tr>\n",
       "      <th>0</th>\n",
       "      <td>rt thembarumbu dear ladies\\nif you catch ur bo...</td>\n",
       "      <td>0</td>\n",
       "      <td>NaN</td>\n",
       "    </tr>\n",
       "    <tr>\n",
       "      <th>1</th>\n",
       "      <td>rt dailytelegraph one of the most notorious ba...</td>\n",
       "      <td>1</td>\n",
       "      <td>0/1</td>\n",
       "    </tr>\n",
       "    <tr>\n",
       "      <th>2</th>\n",
       "      <td>commercial law's bitch ...is what i am right n...</td>\n",
       "      <td>0</td>\n",
       "      <td>NaN</td>\n",
       "    </tr>\n",
       "    <tr>\n",
       "      <th>3</th>\n",
       "      <td>hlonimaniers i'm craving lindt lindor 😫</td>\n",
       "      <td>1</td>\n",
       "      <td>1</td>\n",
       "    </tr>\n",
       "    <tr>\n",
       "      <th>4</th>\n",
       "      <td>rt luthom if you're reading this tweet https//...</td>\n",
       "      <td>0</td>\n",
       "      <td>NaN</td>\n",
       "    </tr>\n",
       "  </tbody>\n",
       "</table>\n",
       "</div>"
      ],
      "text/plain": [
       "                                               Teste  Relevante  \\\n",
       "0  rt thembarumbu dear ladies\\nif you catch ur bo...          0   \n",
       "1  rt dailytelegraph one of the most notorious ba...          1   \n",
       "2  commercial law's bitch ...is what i am right n...          0   \n",
       "3            hlonimaniers i'm craving lindt lindor 😫          1   \n",
       "4  rt luthom if you're reading this tweet https//...          0   \n",
       "\n",
       "  Positivo/Negativo  \n",
       "0               NaN  \n",
       "1               0/1  \n",
       "2               NaN  \n",
       "3                 1  \n",
       "4               NaN  "
      ]
     },
     "execution_count": 21,
     "metadata": {},
     "output_type": "execute_result"
    }
   ],
   "source": [
    "g.Teste = g.Teste.str.replace('@', '')\n",
    "g.Teste = g.Teste.str.replace(':', '')\n",
    "g.Teste = g.Teste.str.replace('-', '')\n",
    "g.Teste = g.Teste.str.replace('_', '')\n",
    "g.Teste = g.Teste.str.replace(',', '')\n",
    "g.Teste = g.Teste.str.replace('!', '')\n",
    "g.Teste = g.Teste.str.replace('(', '')\n",
    "g.Teste = g.Teste.str.replace(')', '')\n",
    "g.Teste = g.Teste.str.replace('=', '')\n",
    "g.Teste = g.Teste.str.replace('*', '')\n",
    "g.Teste = g.Teste.str.replace('#', '')\n",
    "\n",
    "g.head()"
   ]
  },
  {
   "cell_type": "code",
   "execution_count": 22,
   "metadata": {},
   "outputs": [
    {
     "data": {
      "text/html": [
       "<div>\n",
       "<style scoped>\n",
       "    .dataframe tbody tr th:only-of-type {\n",
       "        vertical-align: middle;\n",
       "    }\n",
       "\n",
       "    .dataframe tbody tr th {\n",
       "        vertical-align: top;\n",
       "    }\n",
       "\n",
       "    .dataframe thead th {\n",
       "        text-align: right;\n",
       "    }\n",
       "</style>\n",
       "<table border=\"1\" class=\"dataframe\">\n",
       "  <thead>\n",
       "    <tr style=\"text-align: right;\">\n",
       "      <th></th>\n",
       "      <th>Teste</th>\n",
       "      <th>Relevante</th>\n",
       "    </tr>\n",
       "  </thead>\n",
       "  <tbody>\n",
       "    <tr>\n",
       "      <th>0</th>\n",
       "      <td>rt thembarumbu dear ladies\\nif you catch ur bo...</td>\n",
       "      <td>0</td>\n",
       "    </tr>\n",
       "    <tr>\n",
       "      <th>1</th>\n",
       "      <td>rt dailytelegraph one of the most notorious ba...</td>\n",
       "      <td>1</td>\n",
       "    </tr>\n",
       "    <tr>\n",
       "      <th>2</th>\n",
       "      <td>commercial law's bitch ...is what i am right n...</td>\n",
       "      <td>0</td>\n",
       "    </tr>\n",
       "    <tr>\n",
       "      <th>3</th>\n",
       "      <td>hlonimaniers i'm craving lindt lindor  😫</td>\n",
       "      <td>1</td>\n",
       "    </tr>\n",
       "    <tr>\n",
       "      <th>4</th>\n",
       "      <td>rt luthom if you're reading this tweet https//...</td>\n",
       "      <td>0</td>\n",
       "    </tr>\n",
       "  </tbody>\n",
       "</table>\n",
       "</div>"
      ],
      "text/plain": [
       "                                               Teste  Relevante\n",
       "0  rt thembarumbu dear ladies\\nif you catch ur bo...          0\n",
       "1  rt dailytelegraph one of the most notorious ba...          1\n",
       "2  commercial law's bitch ...is what i am right n...          0\n",
       "3          hlonimaniers i'm craving lindt lindor  😫           1\n",
       "4  rt luthom if you're reading this tweet https//...          0"
      ]
     },
     "execution_count": 22,
     "metadata": {},
     "output_type": "execute_result"
    }
   ],
   "source": [
    "g_espaco_emoji = []\n",
    "data = g[\"Teste\"]\n",
    "for tweet in data:\n",
    "    t = ''\n",
    "    for palavra in tweet:\n",
    "        if palavra in UNICODE_EMOJI:\n",
    "            t = t+ \" \" + palavra + \" \"\n",
    "        else:\n",
    "            t += palavra\n",
    "    g_espaco_emoji.append(t)\n",
    "\n",
    "g_limpo =  pd.DataFrame()\n",
    "g_limpo['Teste'] = g_espaco_emoji\n",
    "g_limpo['Relevante'] = g['Relevante']\n",
    "\n",
    "g_limpo.head()"
   ]
  },
  {
   "cell_type": "code",
   "execution_count": 24,
   "metadata": {},
   "outputs": [],
   "source": [
    "lista_teste = []\n",
    "j = []\n",
    "k = []\n",
    "for f in g_limpo['Teste']:\n",
    "    comR = 1\n",
    "    comIr = 1\n",
    "    x = f.split(' ')\n",
    "    for palavra in x:\n",
    "        if palavra in ir_prob:\n",
    "            comIr *= ir_prob[palavra]\n",
    "        else:\n",
    "            comIr *= 1/(len(pala)+Rel)\n",
    "        if palavra in r_prob:\n",
    "            comR *= r_prob[palavra]\n",
    "        else:\n",
    "            comR *= 1/(len(pala)+Rel)\n",
    "    Rp = comR*Pr\n",
    "    Irp = comIr*Pi\n",
    "    \n",
    "    j.append(Rp)\n",
    "    k.append(Irp)\n",
    "    \n",
    "    if Rp >= Irp:\n",
    "        lista_teste.append(1)\n",
    "    else:\n",
    "        lista_teste.append(0)\n",
    "        \n",
    "min(k)\n",
    "g[\"lista teste\"] = lista_teste"
   ]
  },
  {
   "cell_type": "code",
   "execution_count": 25,
   "metadata": {},
   "outputs": [
    {
     "name": "stdout",
     "output_type": "stream",
     "text": [
      "Positivos verdadeiros = 47.000%\n",
      "Positivos falsos = 52.500%\n",
      "Negativos verdadeiros = 0.500%\n",
      "Negativos falsos = 0.000%\n"
     ]
    }
   ],
   "source": [
    "uu = g.loc[(g['Relevante'] == 1 ) & (g['lista teste'] == 1 ), ['Relevante', 'lista teste']]\n",
    "uz = g.loc[(g['Relevante'] == 0 ) & (g['lista teste'] == 1 ), ['Relevante', 'lista teste']]\n",
    "zz = g.loc[(g['Relevante'] == 0 ) & (g['lista teste'] == 0 ), ['Relevante', 'lista teste']]\n",
    "zu = g.loc[(g['Relevante'] == 1 ) & (g['lista teste'] == 0 ), ['Relevante', 'lista teste']]\n",
    "\n",
    "posV = (len(uu)/len(g['Relevante']))*100\n",
    "posF = (len(uz)/len(g['Relevante']))*100\n",
    "negV = (len(zz)/len(g['Relevante']))*100\n",
    "negF = (len(zu)/len(g['Relevante']))*100\n",
    "\n",
    "print('Positivos verdadeiros = {:.3f}%'.format(posV))\n",
    "print('Positivos falsos = {:.3f}%'.format(posF))\n",
    "print('Negativos verdadeiros = {:.3f}%'.format(negV))\n",
    "print('Negativos falsos = {:.3f}%'.format(negF))"
   ]
  },
  {
   "cell_type": "markdown",
   "metadata": {},
   "source": [
    "P(Frase|relevante) = P(palavra|relevante) * P(outra_paravra|relevante)\n"
   ]
  },
  {
   "cell_type": "code",
   "execution_count": null,
   "metadata": {},
   "outputs": [],
   "source": []
  }
 ],
 "metadata": {
  "kernelspec": {
   "display_name": "Python 3",
   "language": "python",
   "name": "python3"
  },
  "language_info": {
   "codemirror_mode": {
    "name": "ipython",
    "version": 3
   },
   "file_extension": ".py",
   "mimetype": "text/x-python",
   "name": "python",
   "nbconvert_exporter": "python",
   "pygments_lexer": "ipython3",
   "version": "3.6.5"
  }
 },
 "nbformat": 4,
 "nbformat_minor": 2
}
